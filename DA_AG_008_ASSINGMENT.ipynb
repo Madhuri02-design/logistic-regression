{
  "nbformat": 4,
  "nbformat_minor": 0,
  "metadata": {
    "colab": {
      "provenance": []
    },
    "kernelspec": {
      "name": "python3",
      "display_name": "Python 3"
    },
    "language_info": {
      "name": "python"
    }
  },
  "cells": [
    {
      "cell_type": "markdown",
      "source": [
        "Question 1 : What is Simple Linear Regression (SLR)? Explain its purpose.\n"
      ],
      "metadata": {
        "id": "xSbBI6arFpRB"
      }
    },
    {
      "cell_type": "markdown",
      "source": [],
      "metadata": {
        "id": "P9CF6E2jGTd3"
      }
    },
    {
      "cell_type": "markdown",
      "source": [
        "Answer; Simple Linear Regression (SLR) is a statistical method used to study the relationship between two variables — one independent variable (X) and one dependent variable (Y).\n",
        "\n",
        "It helps to determine how changes in the independent variable affect the dependent variable. The relationship is modeled using a straight line equation:\n",
        "\n",
        "\n",
        "Y=a+bX+ε\n",
        "\n",
        "Where:\n",
        "\n",
        "Y = Dependent variable (the one we want to predict)\n",
        "\n",
        "X = Independent variable (the predictor)\n",
        "\n",
        "a = Intercept (value of Y when X = 0)\n",
        "\n",
        "b = Slope (change in Y for one unit change in X)\n",
        "\n",
        "ε = Error term (difference between actual and predicted values)\n",
        "\n",
        "Purpose of Simple Linear Regression:\n",
        "\n",
        "Prediction:\n",
        "To predict the value of the dependent variable (Y) based on a known value of the independent variable (X).\n",
        "Example: Predicting a person’s weight based on their height.\n",
        "\n",
        "Relationship Analysis:\n",
        "To understand and quantify the strength and direction (positive or negative) of the relationship between X and Y.\n",
        "\n",
        "Trend Estimation:\n",
        "To identify trends or patterns in data, such as sales increasing with advertising expenditure."
      ],
      "metadata": {
        "id": "rOAicDYJGVmE"
      }
    },
    {
      "cell_type": "markdown",
      "source": [
        "Question 2: What are the key assumptions of Simple Linear Regression?"
      ],
      "metadata": {
        "id": "qhSBEKkpG1de"
      }
    },
    {
      "cell_type": "markdown",
      "source": [
        "Answer; Simple Linear Regression (SLR) is based on several key assumptions that must hold true for the model’s results to be valid and reliable. These assumptions ensure that the estimated relationship between the variables is accurate and meaningful.\n",
        "\n",
        "Key Assumptions of Simple Linear Regression:\n",
        "\n",
        "Linearity:\n",
        "The relationship between the independent variable (X) and the dependent variable (Y) must be linear.\n",
        "\n",
        "\n",
        "1.Independence of Errors:\n",
        "The residuals (errors) should be independent of each other.\n",
        "\n",
        " One observation’s error should not influence another’s.\n",
        "\n",
        "2.Homoscedasticity (Constant Variance):\n",
        "The variance of the residuals (errors) should be constant across all levels of X.\n",
        "\n",
        "The spread of residuals should be roughly the same for all predicted values.\n",
        "\n",
        "If violated: It leads to heteroscedasticity, which makes predictions unreliable.\n",
        "\n",
        "3.Normality of Errors:\n",
        "The residuals (errors) should be normally distributed.\n",
        "\n",
        " When plotted, the residuals should form a bell-shaped curve.\n",
        "\n",
        "4.No or Minimal Multicollinearity:\n",
        "(Applicable in multiple regression; in SLR, only one X exists.)\n",
        "\n",
        "The independent variable should not be highly correlated with other predictors.\n",
        "\n",
        "In SLR: This is automatically satisfied since there’s only one predictor.\n",
        "\n",
        "5.No Measurement Error in X:\n",
        "The independent variable (X) should be measured accurately, without significant error.\n",
        "\n",
        "Errors in X can lead to biased slope estimates."
      ],
      "metadata": {
        "id": "x72AXJooHFg6"
      }
    },
    {
      "cell_type": "markdown",
      "source": [
        "Question 3: Write the mathematical equation for a simple linear regression model and\n",
        "explain each term.\n"
      ],
      "metadata": {
        "id": "f9HwEINTH_kh"
      }
    },
    {
      "cell_type": "markdown",
      "source": [
        "The mathematical equation for a Simple Linear Regression (SLR) model is:\n",
        "\n",
        "Y=a+bX+ε\n",
        "Explanation of Each Term:\n",
        "\n",
        "Y (Dependent Variable):\n",
        "\n",
        "The variable we want to predict or explain.\n",
        "\n",
        "Example: House price, sales amount, weight, etc.\n",
        "\n",
        "X (Independent Variable):\n",
        "\n",
        "The variable used to predict Y.\n",
        "\n",
        "Example: House size, advertising budget, height, etc.\n",
        "\n",
        "a (Intercept):\n",
        "\n",
        "The value of Y when X = 0.\n",
        "\n",
        "It represents the point where the regression line crosses the Y-axis.\n",
        "\n",
        "Example: If X = 0, the expected value of Y is a.\n",
        "\n",
        "b (Slope):\n",
        "\n",
        "The rate of change in Y for a one-unit increase in X.\n",
        "\n",
        "Change in\n",
        "𝑌\n",
        "Change in\n",
        "𝑋\n",
        "b=\n",
        "Change in X\n",
        "Change in Y.\n",
        "\n",
        "If b > 0, the relationship is positive (Y increases as X increases).\n",
        "\n",
        "If b < 0, the relationship is negative (Y decreases as X increases).\n",
        "\n",
        "ε (Error Term or Residual):\n",
        "\n",
        "Represents the difference between the actual observed value and the predicted value of Y.\n",
        "\n",
        "Accounts for all other factors affecting Y that are not explained by X."
      ],
      "metadata": {
        "id": "lhdTqEssICNE"
      }
    },
    {
      "cell_type": "markdown",
      "source": [
        "Question 4: Provide a real-world example where simple linear regression can be\n",
        "applied.\n"
      ],
      "metadata": {
        "id": "m4NfYr2uJL5S"
      }
    },
    {
      "cell_type": "markdown",
      "source": [
        "A real-world example of applying Simple Linear Regression (SLR) is in predicting house prices based on the size of the house.\n",
        "\n",
        "Example: Predicting House Price\n",
        "\n",
        "Scenario:\n",
        "A real estate company wants to predict the price of a house (Y) based on its area in square feet (X).\n",
        "\n",
        "Model:\n",
        "House Price\n",
        "=\n",
        "𝑎\n",
        "+\n",
        "𝑏\n",
        "×\n",
        "(\n",
        "House Size\n",
        ")\n",
        "+\n",
        "𝜀\n",
        "House Price=a+b×(House Size)+ε\n",
        "\n",
        "Where:\n",
        "\n",
        "Y (House Price): Dependent variable (the value to be predicted)\n",
        "\n",
        "X (House Size): Independent variable (predictor)\n",
        "\n",
        "a: Intercept (estimated base price when size = 0)\n",
        "\n",
        "b: Slope (increase in price per additional square foot)\n",
        "\n",
        "ε: Error term (captures other factors like location, age, etc.)\n",
        "\n",
        "Interpretation Example:\n",
        "\n",
        "If the fitted regression equation is:\n",
        "\n",
        "\n",
        "Price=50,000+200×(Size)\n",
        "\n",
        "Then:\n",
        "\n",
        "The intercept (50,000) means that even a very small house has a base value of ₹50,000.\n",
        "\n",
        "The slope (200) means that for every additional square foot, the house price increases by ₹200."
      ],
      "metadata": {
        "id": "wy2iqbwZJr2N"
      }
    },
    {
      "cell_type": "markdown",
      "source": [
        "Question 5: What is the method of least squares in linear regression?"
      ],
      "metadata": {
        "id": "IKS0pfggK65R"
      }
    },
    {
      "cell_type": "markdown",
      "source": [
        "The Method of Least Squares is the most common technique used to estimate the parameters (slope and intercept) in a linear regression model.\n",
        "\n",
        "It works by finding the best-fitting straight line through the data points such that the sum of the squared differences between the actual and predicted values of the dependent variable is minimized.\n",
        "\n",
        "Mathematical Explanation:\n",
        "\n",
        "In a simple linear regression model:\n",
        "Y = a + bX + ε\n",
        "\n",
        "We want to find the values of a (intercept) and b (slope) that minimize the following quantity:\n",
        "SSE = Σ(Yi - Ŷi)²\n",
        "\n",
        "Where:\n",
        "Yi = actual observed value of Y\n",
        "Ŷi = a + bXi = predicted value of Y\n",
        "(Yi - Ŷi) = residual (error)\n",
        "SSE = Sum of Squared Errors (Residuals)\n",
        "\n",
        "The goal is to find a and b such that SSE is as small as possible.\n",
        "\n",
        "Formulas for Least Squares Estimates:\n",
        "\n",
        "b = Σ(Xi - X̄)(Yi - Ȳ) / Σ(Xi - X̄)²\n",
        "a = Ȳ - bX̄\n",
        "\n",
        "Where:\n",
        "X̄ = mean of X values\n",
        "Ȳ = mean of Y values\n",
        "\n",
        "Purpose and Importance:\n",
        "1. Best Fit Line: Finds the line that best represents the relationship between X and Y.\n",
        "2. Error Minimization: Ensures that overall prediction errors are as small as possible.\n",
        "3. Reliable Predictions: Provides the most accurate estimates of Y for given X values.\n",
        "\n",
        "In summary:\n",
        "The Method of Least Squares determines the best-fitting regression line by minimizing the sum of squared differences between actual and predicted values, giving the most accurate and unbiased estimates of the regression coefficients.\n"
      ],
      "metadata": {
        "id": "U34KS7jxK1CG"
      }
    },
    {
      "cell_type": "markdown",
      "source": [
        "Question 6: What is Logistic Regression? How does it differ from Linear Regression?\n"
      ],
      "metadata": {
        "id": "b6gTY-_qLGS0"
      }
    },
    {
      "cell_type": "markdown",
      "source": [
        "Answer\n",
        "Logistic Regression is a statistical method used to predict the probability of a categorical (usually binary) outcome based on one or more independent variables.\n",
        "\n",
        "It is mainly used when the dependent variable (Y) can take only two values, such as:\n",
        "- 1 or 0\n",
        "- Yes or No\n",
        "- Pass or Fail\n",
        "- Spam or Not Spam\n",
        "\n",
        "Instead of fitting a straight line (like in linear regression), Logistic Regression fits an S-shaped (sigmoid) curve that outputs probabilities between 0 and 1.\n",
        "\n",
        "Mathematical Form:\n",
        "\n",
        "P(Y = 1) = 1 / (1 + e^-(a + bX))\n",
        "\n",
        "Where:\n",
        "\n",
        "P(Y = 1) = probability that Y = 1 (success)\n",
        "\n",
        "a = intercept\n",
        "\n",
        "b = slope coefficient\n",
        "\n",
        "e = base of natural logarithm (~2.718)\n",
        "\n",
        "X = independent variable\n",
        "\n",
        "This equation is then converted into a logit (log-odds) form:\n",
        "\n",
        "log(P / (1 - P)) = a + bX\n"
      ],
      "metadata": {
        "id": "NG2-iUQnMRys"
      }
    },
    {
      "cell_type": "markdown",
      "source": [
        "Question 7: Name and briefly describe three common evaluation metrics for regression\n",
        "models.\n"
      ],
      "metadata": {
        "id": "2OZ7Ry-liQ7I"
      }
    },
    {
      "cell_type": "markdown",
      "source": [
        "Answer:\n",
        "\n",
        "Mean Absolute Error (MAE):\n",
        "Measures the average absolute difference between predicted and actual values. It shows how far the predictions are from the real values on average.\n",
        "MAE = sum of all absolutes diffrence between actual and predicted value | number of data point\n",
        "\n",
        "Mean Squared Error (MSE):\n",
        "Calculates the average of the squared differences bentween predicted and actual values. It penalizes larger errors more strongly.\n",
        "\n",
        "MSE = Average of the squared differences between actual and predicted values.\n",
        "\n",
        "R-squared (Coefficient of Determination):\n",
        "Indicates how well the model explains the variability of the target variable. A value closer to 1 means a better fit.\n",
        "\n",
        "R-squared is equal to one minus the ratio of the sum of squared differences between the actual and predicted values (errors) to the total sum of squared differences between the actual values and their mean"
      ],
      "metadata": {
        "id": "o33z-vkviL9x"
      }
    },
    {
      "cell_type": "markdown",
      "source": [
        "Question 8: What is the purpose of the R-squared metric in regression analysis?\n"
      ],
      "metadata": {
        "id": "7q3lyYoIkokx"
      }
    },
    {
      "cell_type": "markdown",
      "source": [
        "Answer:\n",
        "The R-squared (R²) metric is used to measure how well a regression model explains the variability of the target (dependent) variable.\n",
        "\n",
        "It shows the proportion of the total variation in the actual data that is explained by the model.\n",
        "\n",
        "Its value ranges from 0 to 1:\n",
        "\n",
        "R² = 1 → The model perfectly explains all variability.\n",
        "\n",
        "R² = 0 → The model explains none of the variability; predictions are no better than using the mean.\n",
        "\n",
        "In short, R² helps assess the goodness of fit of a regression model."
      ],
      "metadata": {
        "id": "s0v_7FdQk0vT"
      }
    },
    {
      "cell_type": "markdown",
      "source": [
        "Question 9: Write Python code to fit a simple linear regression model using scikit-learn\n",
        "and print the slope and intercept."
      ],
      "metadata": {
        "id": "qOanLTowk9W0"
      }
    },
    {
      "cell_type": "code",
      "source": [
        "\n",
        "from sklearn.linear_model import LinearRegression\n",
        "import numpy as np\n",
        "\n",
        "X = np.array([1, 2, 3, 4, 5]).reshape(-1, 1)\n",
        "y = np.array([2, 4, 5, 4, 5])\n",
        "\n",
        "model = LinearRegression()\n",
        "\n",
        "model.fit(X, y)\n",
        "\n",
        "print(\"Slope (Coefficient):\", model.coef_[0])\n",
        "print(\"Intercept:\", model.intercept_)\n"
      ],
      "metadata": {
        "colab": {
          "base_uri": "https://localhost:8080/"
        },
        "id": "n5XIu0EklEU4",
        "outputId": "b9c061b4-d877-44e0-ba72-eeb242a597da"
      },
      "execution_count": 1,
      "outputs": [
        {
          "output_type": "stream",
          "name": "stdout",
          "text": [
            "Slope (Coefficient): 0.6\n",
            "Intercept: 2.2\n"
          ]
        }
      ]
    },
    {
      "cell_type": "markdown",
      "source": [
        "Question 10: How do you interpret the coefficients in a simple linear regression model?"
      ],
      "metadata": {
        "id": "6Jb-H4hclcTf"
      }
    },
    {
      "cell_type": "markdown",
      "source": [
        "Answer:\n",
        "In a simple linear regression model, the equation is:\n",
        "\n",
        "𝑦 = intercept\n",
        "+\n",
        "(\n",
        "slope\n",
        "×\n",
        "𝑥\n",
        ")\n",
        "y=intercept+(slope×x)\n",
        "\n",
        "Intercept:\n",
        "\n",
        "The value of y when the independent variable x = 0.\n",
        "\n",
        "It is the point where the regression line crosses the y-axis.\n",
        "\n",
        "Slope (Coefficient):\n",
        "\n",
        "Represents the change in the dependent variable (y) for a one-unit increase in the independent variable (x).\n",
        "\n",
        "A positive slope means y increases as x increases; a negative slope means y decreases as x increases."
      ],
      "metadata": {
        "id": "9cjS2yNAlpp2"
      }
    },
    {
      "cell_type": "code",
      "source": [],
      "metadata": {
        "id": "Q0TvtehiJZzu"
      },
      "execution_count": null,
      "outputs": []
    },
    {
      "cell_type": "code",
      "source": [],
      "metadata": {
        "id": "PXD8nQ1XG2bd"
      },
      "execution_count": null,
      "outputs": []
    }
  ]
}